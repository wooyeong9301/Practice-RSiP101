{
 "cells": [
  {
   "cell_type": "markdown",
   "id": "e3f53dc4",
   "metadata": {},
   "source": [
    "# Recommender Systems in Python 101\n",
    "This document will demonstrate how to implement **Collaborative Filtering, Content-Based Filtering and Hybrid mothods** for the task of providing personalized recommendations in Python."
   ]
  },
  {
   "cell_type": "code",
   "execution_count": 2,
   "id": "c749380a",
   "metadata": {},
   "outputs": [],
   "source": [
    "import numpy as np\n",
    "import pandas as pd\n",
    "import scipy, math, random, sklearn\n",
    "from nltk.corpus import stopwords\n",
    "from scipy.sparse import csr_matrix\n",
    "from sklearn.model_selection import train_test_split\n",
    "from sklearn.feature_extraction.text import TfidfVectorizer\n",
    "from sklearn.metrics.pairwise import cosine_similarity\n",
    "from scipy.sparse.linalg import svds\n",
    "from sklearn.preprocessing import MinMaxScaler\n",
    "import matplotlib.pyplot as plt\n",
    "\n"
   ]
  },
  {
   "cell_type": "markdown",
   "id": "6f4c4ecd",
   "metadata": {},
   "source": [
    "### Loading data : CI&T Deskdrop dataset\n",
    "The dataset contains **shared_articles.csv** and **users_interactions.csv**.   "
   ]
  },
  {
   "cell_type": "markdown",
   "id": "b0a1d759",
   "metadata": {},
   "source": [
    "##### shared_articles.csv\n",
    "It contains information about the articles shared in the platform.\n",
    "- sharing date, original url, content in plain text, language and author    \n",
    "\n",
    "Event types at a given timestamp are **CONTENT SHARED** and **CONTENT REMOVED** but only consider here the \"CONTENT SHARED\" type for the sake of simplicity assuming that all articles were available during the period."
   ]
  },
  {
   "cell_type": "code",
   "execution_count": 5,
   "id": "84ed60c4",
   "metadata": {},
   "outputs": [
    {
     "data": {
      "text/html": [
       "<div>\n",
       "<style scoped>\n",
       "    .dataframe tbody tr th:only-of-type {\n",
       "        vertical-align: middle;\n",
       "    }\n",
       "\n",
       "    .dataframe tbody tr th {\n",
       "        vertical-align: top;\n",
       "    }\n",
       "\n",
       "    .dataframe thead th {\n",
       "        text-align: right;\n",
       "    }\n",
       "</style>\n",
       "<table border=\"1\" class=\"dataframe\">\n",
       "  <thead>\n",
       "    <tr style=\"text-align: right;\">\n",
       "      <th></th>\n",
       "      <th>timestamp</th>\n",
       "      <th>eventType</th>\n",
       "      <th>contentId</th>\n",
       "      <th>authorPersonId</th>\n",
       "      <th>authorSessionId</th>\n",
       "      <th>authorUserAgent</th>\n",
       "      <th>authorRegion</th>\n",
       "      <th>authorCountry</th>\n",
       "      <th>contentType</th>\n",
       "      <th>url</th>\n",
       "      <th>title</th>\n",
       "      <th>text</th>\n",
       "      <th>lang</th>\n",
       "    </tr>\n",
       "  </thead>\n",
       "  <tbody>\n",
       "    <tr>\n",
       "      <th>1</th>\n",
       "      <td>1459193988</td>\n",
       "      <td>CONTENT SHARED</td>\n",
       "      <td>-4110354420726924665</td>\n",
       "      <td>4340306774493623681</td>\n",
       "      <td>8940341205206233829</td>\n",
       "      <td>NaN</td>\n",
       "      <td>NaN</td>\n",
       "      <td>NaN</td>\n",
       "      <td>HTML</td>\n",
       "      <td>http://www.nytimes.com/2016/03/28/business/dea...</td>\n",
       "      <td>Ethereum, a Virtual Currency, Enables Transact...</td>\n",
       "      <td>All of this work is still very early. The firs...</td>\n",
       "      <td>en</td>\n",
       "    </tr>\n",
       "    <tr>\n",
       "      <th>2</th>\n",
       "      <td>1459194146</td>\n",
       "      <td>CONTENT SHARED</td>\n",
       "      <td>-7292285110016212249</td>\n",
       "      <td>4340306774493623681</td>\n",
       "      <td>8940341205206233829</td>\n",
       "      <td>NaN</td>\n",
       "      <td>NaN</td>\n",
       "      <td>NaN</td>\n",
       "      <td>HTML</td>\n",
       "      <td>http://cointelegraph.com/news/bitcoin-future-w...</td>\n",
       "      <td>Bitcoin Future: When GBPcoin of Branson Wins O...</td>\n",
       "      <td>The alarm clock wakes me at 8:00 with stream o...</td>\n",
       "      <td>en</td>\n",
       "    </tr>\n",
       "    <tr>\n",
       "      <th>3</th>\n",
       "      <td>1459194474</td>\n",
       "      <td>CONTENT SHARED</td>\n",
       "      <td>-6151852268067518688</td>\n",
       "      <td>3891637997717104548</td>\n",
       "      <td>-1457532940883382585</td>\n",
       "      <td>NaN</td>\n",
       "      <td>NaN</td>\n",
       "      <td>NaN</td>\n",
       "      <td>HTML</td>\n",
       "      <td>https://cloudplatform.googleblog.com/2016/03/G...</td>\n",
       "      <td>Google Data Center 360° Tour</td>\n",
       "      <td>We're excited to share the Google Data Center ...</td>\n",
       "      <td>en</td>\n",
       "    </tr>\n",
       "    <tr>\n",
       "      <th>4</th>\n",
       "      <td>1459194497</td>\n",
       "      <td>CONTENT SHARED</td>\n",
       "      <td>2448026894306402386</td>\n",
       "      <td>4340306774493623681</td>\n",
       "      <td>8940341205206233829</td>\n",
       "      <td>NaN</td>\n",
       "      <td>NaN</td>\n",
       "      <td>NaN</td>\n",
       "      <td>HTML</td>\n",
       "      <td>https://bitcoinmagazine.com/articles/ibm-wants...</td>\n",
       "      <td>IBM Wants to \"Evolve the Internet\" With Blockc...</td>\n",
       "      <td>The Aite Group projects the blockchain market ...</td>\n",
       "      <td>en</td>\n",
       "    </tr>\n",
       "    <tr>\n",
       "      <th>5</th>\n",
       "      <td>1459194522</td>\n",
       "      <td>CONTENT SHARED</td>\n",
       "      <td>-2826566343807132236</td>\n",
       "      <td>4340306774493623681</td>\n",
       "      <td>8940341205206233829</td>\n",
       "      <td>NaN</td>\n",
       "      <td>NaN</td>\n",
       "      <td>NaN</td>\n",
       "      <td>HTML</td>\n",
       "      <td>http://www.coindesk.com/ieee-blockchain-oxford...</td>\n",
       "      <td>IEEE to Talk Blockchain at Cloud Computing Oxf...</td>\n",
       "      <td>One of the largest and oldest organizations fo...</td>\n",
       "      <td>en</td>\n",
       "    </tr>\n",
       "  </tbody>\n",
       "</table>\n",
       "</div>"
      ],
      "text/plain": [
       "    timestamp       eventType            contentId       authorPersonId  \\\n",
       "1  1459193988  CONTENT SHARED -4110354420726924665  4340306774493623681   \n",
       "2  1459194146  CONTENT SHARED -7292285110016212249  4340306774493623681   \n",
       "3  1459194474  CONTENT SHARED -6151852268067518688  3891637997717104548   \n",
       "4  1459194497  CONTENT SHARED  2448026894306402386  4340306774493623681   \n",
       "5  1459194522  CONTENT SHARED -2826566343807132236  4340306774493623681   \n",
       "\n",
       "       authorSessionId authorUserAgent authorRegion authorCountry contentType  \\\n",
       "1  8940341205206233829             NaN          NaN           NaN        HTML   \n",
       "2  8940341205206233829             NaN          NaN           NaN        HTML   \n",
       "3 -1457532940883382585             NaN          NaN           NaN        HTML   \n",
       "4  8940341205206233829             NaN          NaN           NaN        HTML   \n",
       "5  8940341205206233829             NaN          NaN           NaN        HTML   \n",
       "\n",
       "                                                 url  \\\n",
       "1  http://www.nytimes.com/2016/03/28/business/dea...   \n",
       "2  http://cointelegraph.com/news/bitcoin-future-w...   \n",
       "3  https://cloudplatform.googleblog.com/2016/03/G...   \n",
       "4  https://bitcoinmagazine.com/articles/ibm-wants...   \n",
       "5  http://www.coindesk.com/ieee-blockchain-oxford...   \n",
       "\n",
       "                                               title  \\\n",
       "1  Ethereum, a Virtual Currency, Enables Transact...   \n",
       "2  Bitcoin Future: When GBPcoin of Branson Wins O...   \n",
       "3                       Google Data Center 360° Tour   \n",
       "4  IBM Wants to \"Evolve the Internet\" With Blockc...   \n",
       "5  IEEE to Talk Blockchain at Cloud Computing Oxf...   \n",
       "\n",
       "                                                text lang  \n",
       "1  All of this work is still very early. The firs...   en  \n",
       "2  The alarm clock wakes me at 8:00 with stream o...   en  \n",
       "3  We're excited to share the Google Data Center ...   en  \n",
       "4  The Aite Group projects the blockchain market ...   en  \n",
       "5  One of the largest and oldest organizations fo...   en  "
      ]
     },
     "execution_count": 5,
     "metadata": {},
     "output_type": "execute_result"
    }
   ],
   "source": [
    "articles_df = pd.read_csv('./archive/shared_articles.csv')\n",
    "articles_df = articles_df[articles_df['eventType']=='CONTENT SHARED']\n",
    "articles_df.head()"
   ]
  },
  {
   "cell_type": "markdown",
   "id": "65900aa3",
   "metadata": {},
   "source": [
    "##### users-interactions.csv\n",
    "It contains logs of user interactions on shared articles and can be joined to **articles_shared.csv** by **contentId** column.\n",
    "- VIEW, LIKE, COMMENT CREATED, FOLLOW and BOOKMARK\n"
   ]
  },
  {
   "cell_type": "code",
   "execution_count": 6,
   "id": "c5b1d334",
   "metadata": {},
   "outputs": [
    {
     "data": {
      "text/html": [
       "<div>\n",
       "<style scoped>\n",
       "    .dataframe tbody tr th:only-of-type {\n",
       "        vertical-align: middle;\n",
       "    }\n",
       "\n",
       "    .dataframe tbody tr th {\n",
       "        vertical-align: top;\n",
       "    }\n",
       "\n",
       "    .dataframe thead th {\n",
       "        text-align: right;\n",
       "    }\n",
       "</style>\n",
       "<table border=\"1\" class=\"dataframe\">\n",
       "  <thead>\n",
       "    <tr style=\"text-align: right;\">\n",
       "      <th></th>\n",
       "      <th>timestamp</th>\n",
       "      <th>eventType</th>\n",
       "      <th>contentId</th>\n",
       "      <th>personId</th>\n",
       "      <th>sessionId</th>\n",
       "      <th>userAgent</th>\n",
       "      <th>userRegion</th>\n",
       "      <th>userCountry</th>\n",
       "    </tr>\n",
       "  </thead>\n",
       "  <tbody>\n",
       "    <tr>\n",
       "      <th>0</th>\n",
       "      <td>1465413032</td>\n",
       "      <td>VIEW</td>\n",
       "      <td>-3499919498720038879</td>\n",
       "      <td>-8845298781299428018</td>\n",
       "      <td>1264196770339959068</td>\n",
       "      <td>NaN</td>\n",
       "      <td>NaN</td>\n",
       "      <td>NaN</td>\n",
       "    </tr>\n",
       "    <tr>\n",
       "      <th>1</th>\n",
       "      <td>1465412560</td>\n",
       "      <td>VIEW</td>\n",
       "      <td>8890720798209849691</td>\n",
       "      <td>-1032019229384696495</td>\n",
       "      <td>3621737643587579081</td>\n",
       "      <td>Mozilla/5.0 (Macintosh; Intel Mac OS X 10_11_2...</td>\n",
       "      <td>NY</td>\n",
       "      <td>US</td>\n",
       "    </tr>\n",
       "    <tr>\n",
       "      <th>2</th>\n",
       "      <td>1465416190</td>\n",
       "      <td>VIEW</td>\n",
       "      <td>310515487419366995</td>\n",
       "      <td>-1130272294246983140</td>\n",
       "      <td>2631864456530402479</td>\n",
       "      <td>NaN</td>\n",
       "      <td>NaN</td>\n",
       "      <td>NaN</td>\n",
       "    </tr>\n",
       "    <tr>\n",
       "      <th>3</th>\n",
       "      <td>1465413895</td>\n",
       "      <td>FOLLOW</td>\n",
       "      <td>310515487419366995</td>\n",
       "      <td>344280948527967603</td>\n",
       "      <td>-3167637573980064150</td>\n",
       "      <td>NaN</td>\n",
       "      <td>NaN</td>\n",
       "      <td>NaN</td>\n",
       "    </tr>\n",
       "    <tr>\n",
       "      <th>4</th>\n",
       "      <td>1465412290</td>\n",
       "      <td>VIEW</td>\n",
       "      <td>-7820640624231356730</td>\n",
       "      <td>-445337111692715325</td>\n",
       "      <td>5611481178424124714</td>\n",
       "      <td>NaN</td>\n",
       "      <td>NaN</td>\n",
       "      <td>NaN</td>\n",
       "    </tr>\n",
       "  </tbody>\n",
       "</table>\n",
       "</div>"
      ],
      "text/plain": [
       "    timestamp eventType            contentId             personId  \\\n",
       "0  1465413032      VIEW -3499919498720038879 -8845298781299428018   \n",
       "1  1465412560      VIEW  8890720798209849691 -1032019229384696495   \n",
       "2  1465416190      VIEW   310515487419366995 -1130272294246983140   \n",
       "3  1465413895    FOLLOW   310515487419366995   344280948527967603   \n",
       "4  1465412290      VIEW -7820640624231356730  -445337111692715325   \n",
       "\n",
       "             sessionId                                          userAgent  \\\n",
       "0  1264196770339959068                                                NaN   \n",
       "1  3621737643587579081  Mozilla/5.0 (Macintosh; Intel Mac OS X 10_11_2...   \n",
       "2  2631864456530402479                                                NaN   \n",
       "3 -3167637573980064150                                                NaN   \n",
       "4  5611481178424124714                                                NaN   \n",
       "\n",
       "  userRegion userCountry  \n",
       "0        NaN         NaN  \n",
       "1         NY          US  \n",
       "2        NaN         NaN  \n",
       "3        NaN         NaN  \n",
       "4        NaN         NaN  "
      ]
     },
     "execution_count": 6,
     "metadata": {},
     "output_type": "execute_result"
    }
   ],
   "source": [
    "interactions_df = pd.read_csv('./archive/users_interactions.csv')\n",
    "interactions_df.head()"
   ]
  },
  {
   "cell_type": "markdown",
   "id": "4ef3cf8f",
   "metadata": {},
   "source": [
    "### Data munging\n",
    "We associate different interactions types with a weight or strength.   \n",
    "EX) Assuming that a comment in an article indicates a higher interest of the user than a like or a simple view."
   ]
  },
  {
   "cell_type": "code",
   "execution_count": 14,
   "id": "b9707c43",
   "metadata": {},
   "outputs": [],
   "source": [
    "# 각 이벤트에 서로 다른 가중치 배정\n",
    "event_strength = {'VIEW': 1.0,\n",
    "   'LIKE': 2.0, \n",
    "   'BOOKMARK': 2.5, \n",
    "   'FOLLOW': 3.0,\n",
    "   'COMMENT CREATED': 4.0,}\n",
    "\n",
    "interactions_df['eventStrength'] = interactions_df['eventType'].apply(lambda x: event_strength[x])"
   ]
  },
  {
   "cell_type": "markdown",
   "id": "2a31cbfe",
   "metadata": {},
   "source": [
    "----\n",
    "### pd.DataFrame.apply()"
   ]
  },
  {
   "cell_type": "code",
   "execution_count": 9,
   "id": "93cbbb46",
   "metadata": {},
   "outputs": [
    {
     "data": {
      "text/html": [
       "<div>\n",
       "<style scoped>\n",
       "    .dataframe tbody tr th:only-of-type {\n",
       "        vertical-align: middle;\n",
       "    }\n",
       "\n",
       "    .dataframe tbody tr th {\n",
       "        vertical-align: top;\n",
       "    }\n",
       "\n",
       "    .dataframe thead th {\n",
       "        text-align: right;\n",
       "    }\n",
       "</style>\n",
       "<table border=\"1\" class=\"dataframe\">\n",
       "  <thead>\n",
       "    <tr style=\"text-align: right;\">\n",
       "      <th></th>\n",
       "      <th>A</th>\n",
       "      <th>B</th>\n",
       "    </tr>\n",
       "  </thead>\n",
       "  <tbody>\n",
       "    <tr>\n",
       "      <th>0</th>\n",
       "      <td>4</td>\n",
       "      <td>view</td>\n",
       "    </tr>\n",
       "    <tr>\n",
       "      <th>1</th>\n",
       "      <td>1</td>\n",
       "      <td>like</td>\n",
       "    </tr>\n",
       "    <tr>\n",
       "      <th>2</th>\n",
       "      <td>2</td>\n",
       "      <td>comment</td>\n",
       "    </tr>\n",
       "  </tbody>\n",
       "</table>\n",
       "</div>"
      ],
      "text/plain": [
       "   A        B\n",
       "0  4     view\n",
       "1  1     like\n",
       "2  2  comment"
      ]
     },
     "execution_count": 9,
     "metadata": {},
     "output_type": "execute_result"
    }
   ],
   "source": [
    "testdf = pd.DataFrame([[4,'view'],[1,'like'],[2,'comment']],columns=['A','B'])\n",
    "testdf"
   ]
  },
  {
   "cell_type": "code",
   "execution_count": 10,
   "id": "a1e75c6a",
   "metadata": {},
   "outputs": [],
   "source": [
    "teststr = {'view':1, 'like':22, 'comment':44}"
   ]
  },
  {
   "cell_type": "code",
   "execution_count": 11,
   "id": "4785d4e7",
   "metadata": {},
   "outputs": [],
   "source": [
    "testdf['C'] = testdf['B'].apply(lambda x: teststr[x])"
   ]
  },
  {
   "cell_type": "code",
   "execution_count": 12,
   "id": "ea7b8198",
   "metadata": {},
   "outputs": [
    {
     "data": {
      "text/html": [
       "<div>\n",
       "<style scoped>\n",
       "    .dataframe tbody tr th:only-of-type {\n",
       "        vertical-align: middle;\n",
       "    }\n",
       "\n",
       "    .dataframe tbody tr th {\n",
       "        vertical-align: top;\n",
       "    }\n",
       "\n",
       "    .dataframe thead th {\n",
       "        text-align: right;\n",
       "    }\n",
       "</style>\n",
       "<table border=\"1\" class=\"dataframe\">\n",
       "  <thead>\n",
       "    <tr style=\"text-align: right;\">\n",
       "      <th></th>\n",
       "      <th>A</th>\n",
       "      <th>B</th>\n",
       "      <th>C</th>\n",
       "    </tr>\n",
       "  </thead>\n",
       "  <tbody>\n",
       "    <tr>\n",
       "      <th>0</th>\n",
       "      <td>4</td>\n",
       "      <td>view</td>\n",
       "      <td>1</td>\n",
       "    </tr>\n",
       "    <tr>\n",
       "      <th>1</th>\n",
       "      <td>1</td>\n",
       "      <td>like</td>\n",
       "      <td>22</td>\n",
       "    </tr>\n",
       "    <tr>\n",
       "      <th>2</th>\n",
       "      <td>2</td>\n",
       "      <td>comment</td>\n",
       "      <td>44</td>\n",
       "    </tr>\n",
       "  </tbody>\n",
       "</table>\n",
       "</div>"
      ],
      "text/plain": [
       "   A        B   C\n",
       "0  4     view   1\n",
       "1  1     like  22\n",
       "2  2  comment  44"
      ]
     },
     "execution_count": 12,
     "metadata": {},
     "output_type": "execute_result"
    }
   ],
   "source": [
    "testdf"
   ]
  },
  {
   "cell_type": "markdown",
   "id": "4242fea4",
   "metadata": {},
   "source": [
    "---"
   ]
  },
  {
   "cell_type": "markdown",
   "id": "245e1a35",
   "metadata": {},
   "source": [
    "To avoid the problem of ***user cold-start***, we are keeping in the dataset only users with at least 5 interactions."
   ]
  },
  {
   "cell_type": "code",
   "execution_count": 38,
   "id": "2498eeb8",
   "metadata": {},
   "outputs": [],
   "source": [
    "users_inter_cnt_df = interactions_df.groupby(['personId', 'contentId']).size().groupby('personId').size()"
   ]
  },
  {
   "cell_type": "code",
   "execution_count": 39,
   "id": "54336381",
   "metadata": {},
   "outputs": [
    {
     "name": "stdout",
     "output_type": "stream",
     "text": [
      "# users: 1895\n"
     ]
    }
   ],
   "source": [
    "print('# users: %d' % len(users_inter_cnt_df))"
   ]
  },
  {
   "cell_type": "code",
   "execution_count": 56,
   "id": "3d5c43c2",
   "metadata": {},
   "outputs": [],
   "source": [
    "users_with_5inter_df = users_inter_cnt_df[users_inter_cnt_df >= 5].reset_index()[['personId']]"
   ]
  },
  {
   "cell_type": "code",
   "execution_count": 57,
   "id": "811db67c",
   "metadata": {},
   "outputs": [
    {
     "name": "stdout",
     "output_type": "stream",
     "text": [
      "# users with enough interactions: 1140\n"
     ]
    }
   ],
   "source": [
    "print('# users with enough interactions: %d' % len(users_with_5inter_df))"
   ]
  },
  {
   "cell_type": "markdown",
   "id": "82916345",
   "metadata": {},
   "source": [
    "----"
   ]
  },
  {
   "cell_type": "code",
   "execution_count": 51,
   "id": "e1407ee4",
   "metadata": {},
   "outputs": [],
   "source": [
    "testsize = testdf.groupby(['A','B']).size().groupby(['A']).size()"
   ]
  },
  {
   "cell_type": "code",
   "execution_count": 53,
   "id": "891c6521",
   "metadata": {},
   "outputs": [
    {
     "data": {
      "text/plain": [
       "A\n",
       "c    3\n",
       "dtype: int64"
      ]
     },
     "execution_count": 53,
     "metadata": {},
     "output_type": "execute_result"
    }
   ],
   "source": [
    "testsize[testsize>=3]"
   ]
  },
  {
   "cell_type": "code",
   "execution_count": 50,
   "id": "e5a256fe",
   "metadata": {},
   "outputs": [
    {
     "data": {
      "text/html": [
       "<div>\n",
       "<style scoped>\n",
       "    .dataframe tbody tr th:only-of-type {\n",
       "        vertical-align: middle;\n",
       "    }\n",
       "\n",
       "    .dataframe tbody tr th {\n",
       "        vertical-align: top;\n",
       "    }\n",
       "\n",
       "    .dataframe thead th {\n",
       "        text-align: right;\n",
       "    }\n",
       "</style>\n",
       "<table border=\"1\" class=\"dataframe\">\n",
       "  <thead>\n",
       "    <tr style=\"text-align: right;\">\n",
       "      <th></th>\n",
       "      <th>A</th>\n",
       "      <th>0</th>\n",
       "    </tr>\n",
       "  </thead>\n",
       "  <tbody>\n",
       "    <tr>\n",
       "      <th>0</th>\n",
       "      <td>c</td>\n",
       "      <td>3</td>\n",
       "    </tr>\n",
       "  </tbody>\n",
       "</table>\n",
       "</div>"
      ],
      "text/plain": [
       "   A  0\n",
       "0  c  3"
      ]
     },
     "execution_count": 50,
     "metadata": {},
     "output_type": "execute_result"
    }
   ],
   "source": [
    "testsize[testsize>=3].reset_index()"
   ]
  },
  {
   "cell_type": "code",
   "execution_count": 54,
   "id": "8fcd5489",
   "metadata": {},
   "outputs": [
    {
     "data": {
      "text/plain": [
       "0    c\n",
       "Name: A, dtype: object"
      ]
     },
     "execution_count": 54,
     "metadata": {},
     "output_type": "execute_result"
    }
   ],
   "source": [
    "testsize[testsize>=3].reset_index()['A']"
   ]
  },
  {
   "cell_type": "code",
   "execution_count": 55,
   "id": "3ec3bfee",
   "metadata": {},
   "outputs": [
    {
     "data": {
      "text/html": [
       "<div>\n",
       "<style scoped>\n",
       "    .dataframe tbody tr th:only-of-type {\n",
       "        vertical-align: middle;\n",
       "    }\n",
       "\n",
       "    .dataframe tbody tr th {\n",
       "        vertical-align: top;\n",
       "    }\n",
       "\n",
       "    .dataframe thead th {\n",
       "        text-align: right;\n",
       "    }\n",
       "</style>\n",
       "<table border=\"1\" class=\"dataframe\">\n",
       "  <thead>\n",
       "    <tr style=\"text-align: right;\">\n",
       "      <th></th>\n",
       "      <th>A</th>\n",
       "    </tr>\n",
       "  </thead>\n",
       "  <tbody>\n",
       "    <tr>\n",
       "      <th>0</th>\n",
       "      <td>c</td>\n",
       "    </tr>\n",
       "  </tbody>\n",
       "</table>\n",
       "</div>"
      ],
      "text/plain": [
       "   A\n",
       "0  c"
      ]
     },
     "execution_count": 55,
     "metadata": {},
     "output_type": "execute_result"
    }
   ],
   "source": [
    "testsize[testsize>=3].reset_index()[['A']]"
   ]
  },
  {
   "cell_type": "markdown",
   "id": "4bdc9554",
   "metadata": {},
   "source": [
    "----"
   ]
  },
  {
   "cell_type": "code",
   "execution_count": 58,
   "id": "c9ce2005",
   "metadata": {},
   "outputs": [
    {
     "name": "stdout",
     "output_type": "stream",
     "text": [
      "# of interactions: 72312\n",
      "# of interactions from users with enough interactions: 69868\n"
     ]
    }
   ],
   "source": [
    "print('# of interactions: %d' % len(interactions_df))\n",
    "interact_from_selected_users_df = interactions_df.merge(users_with_5inter_df,\n",
    "                                                       how='right',\n",
    "                                                       left_on='personId',\n",
    "                                                       right_on='personId')\n",
    "print('# of interactions from users with enough interactions: %d' %len(interact_from_selected_users_df))"
   ]
  },
  {
   "cell_type": "markdown",
   "id": "3e184e5d",
   "metadata": {},
   "source": [
    "To model the user interset on a given article, we aggregate all the interactions the user has performed in an item by weighted sum of interaction type strength and apply a log trans to smooth the distribution."
   ]
  },
  {
   "cell_type": "code",
   "execution_count": 59,
   "id": "e0d4ae85",
   "metadata": {},
   "outputs": [
    {
     "name": "stdout",
     "output_type": "stream",
     "text": [
      "# of uniq user/item interactions: 39106\n"
     ]
    },
    {
     "data": {
      "text/html": [
       "<div>\n",
       "<style scoped>\n",
       "    .dataframe tbody tr th:only-of-type {\n",
       "        vertical-align: middle;\n",
       "    }\n",
       "\n",
       "    .dataframe tbody tr th {\n",
       "        vertical-align: top;\n",
       "    }\n",
       "\n",
       "    .dataframe thead th {\n",
       "        text-align: right;\n",
       "    }\n",
       "</style>\n",
       "<table border=\"1\" class=\"dataframe\">\n",
       "  <thead>\n",
       "    <tr style=\"text-align: right;\">\n",
       "      <th></th>\n",
       "      <th>personId</th>\n",
       "      <th>contentId</th>\n",
       "      <th>eventStrength</th>\n",
       "    </tr>\n",
       "  </thead>\n",
       "  <tbody>\n",
       "    <tr>\n",
       "      <th>0</th>\n",
       "      <td>-9223121837663643404</td>\n",
       "      <td>-8949113594875411859</td>\n",
       "      <td>1.000000</td>\n",
       "    </tr>\n",
       "    <tr>\n",
       "      <th>1</th>\n",
       "      <td>-9223121837663643404</td>\n",
       "      <td>-8377626164558006982</td>\n",
       "      <td>1.000000</td>\n",
       "    </tr>\n",
       "    <tr>\n",
       "      <th>2</th>\n",
       "      <td>-9223121837663643404</td>\n",
       "      <td>-8208801367848627943</td>\n",
       "      <td>1.000000</td>\n",
       "    </tr>\n",
       "    <tr>\n",
       "      <th>3</th>\n",
       "      <td>-9223121837663643404</td>\n",
       "      <td>-8187220755213888616</td>\n",
       "      <td>1.000000</td>\n",
       "    </tr>\n",
       "    <tr>\n",
       "      <th>4</th>\n",
       "      <td>-9223121837663643404</td>\n",
       "      <td>-7423191370472335463</td>\n",
       "      <td>3.169925</td>\n",
       "    </tr>\n",
       "    <tr>\n",
       "      <th>5</th>\n",
       "      <td>-9223121837663643404</td>\n",
       "      <td>-7331393944609614247</td>\n",
       "      <td>1.000000</td>\n",
       "    </tr>\n",
       "    <tr>\n",
       "      <th>6</th>\n",
       "      <td>-9223121837663643404</td>\n",
       "      <td>-6872546942144599345</td>\n",
       "      <td>1.000000</td>\n",
       "    </tr>\n",
       "    <tr>\n",
       "      <th>7</th>\n",
       "      <td>-9223121837663643404</td>\n",
       "      <td>-6728844082024523434</td>\n",
       "      <td>1.000000</td>\n",
       "    </tr>\n",
       "    <tr>\n",
       "      <th>8</th>\n",
       "      <td>-9223121837663643404</td>\n",
       "      <td>-6590819806697898649</td>\n",
       "      <td>1.000000</td>\n",
       "    </tr>\n",
       "    <tr>\n",
       "      <th>9</th>\n",
       "      <td>-9223121837663643404</td>\n",
       "      <td>-6558712014192834002</td>\n",
       "      <td>1.584963</td>\n",
       "    </tr>\n",
       "  </tbody>\n",
       "</table>\n",
       "</div>"
      ],
      "text/plain": [
       "              personId            contentId  eventStrength\n",
       "0 -9223121837663643404 -8949113594875411859       1.000000\n",
       "1 -9223121837663643404 -8377626164558006982       1.000000\n",
       "2 -9223121837663643404 -8208801367848627943       1.000000\n",
       "3 -9223121837663643404 -8187220755213888616       1.000000\n",
       "4 -9223121837663643404 -7423191370472335463       3.169925\n",
       "5 -9223121837663643404 -7331393944609614247       1.000000\n",
       "6 -9223121837663643404 -6872546942144599345       1.000000\n",
       "7 -9223121837663643404 -6728844082024523434       1.000000\n",
       "8 -9223121837663643404 -6590819806697898649       1.000000\n",
       "9 -9223121837663643404 -6558712014192834002       1.584963"
      ]
     },
     "execution_count": 59,
     "metadata": {},
     "output_type": "execute_result"
    }
   ],
   "source": [
    "def smooth_user_preference(x):\n",
    "    return math.log(1+x, 2)\n",
    "\n",
    "interactions_full_df = interact_from_selected_users_df.groupby([\n",
    "    'personId','contentId'])['eventStrength'].sum().apply(smooth_user_preference).reset_index()\n",
    "print('# of uniq user/item interactions: %d' % len(interactions_full_df))\n",
    "interactions_full_df.head(10)"
   ]
  },
  {
   "cell_type": "markdown",
   "id": "6a43d642",
   "metadata": {},
   "source": [
    "### Evaluation\n",
    "One key aspect of evaluation is to ensure that the trained model generalizes for data it was not trained on, using **Cross-validation** techniques. We are using a simple cross-validation approach named **holdout** in which a random data sample are kept aside in the training process and exclusively used for evaluation.   \n",
    "All evaluation metrics reported here are computed using the **test set**.      \n",
    "\n",
    "P.s. train set과 test set을 날짜를 기준으로 구분하여 더 탄탄한 evaluation을 수행할 수 있습니다.   \n",
    "\n",
    "Evaluation을 위해 사용되는 set metrics 중 **Top-N accuracy metrics**를 사용한다. Test set에서 유저가 실제로 상호작용한 아이템들과 비교하여 유저에게 제안된 상위 추천들의 정확도를 계산한다.   \n",
    "- For each user\n",
    " - For each item the user has interacted in test set\n",
    "  - 유저가 상호작용하지 않은 100개의 다른 아이템을 샘플링한다.   \n",
    "  이 아이템들이 유저와 관계가 없다는 단순한 가정을 바탕으로 한다.\n",
    "  - 하나의 상호작용한 아이템과 100개의 상호작용하지 않은 아이템에서 추천되는 아이템들의 랭크 리스트를 recommender model로 생성한다.\n",
    "  - 랭크 리스트에서 Top-N accuracy metrics를 계산한다.\n",
    "- Global Top-N accuracy metrics를 총합한다.   \n",
    "\n",
    "*Recall@N, NDCG@N, MAP@N*"
   ]
  },
  {
   "cell_type": "code",
   "execution_count": 60,
   "id": "a80f7b48",
   "metadata": {},
   "outputs": [
    {
     "name": "stdout",
     "output_type": "stream",
     "text": [
      "# interactions on Train: 31284\n",
      "# interactions on Test: 7822\n"
     ]
    }
   ],
   "source": [
    "inter_train_df, inter_test_df = train_test_split(interactions_full_df,\n",
    "                                                stratify=interactions_full_df['personId'],\n",
    "                                                test_size=0.2,\n",
    "                                                random_state=27)\n",
    "\n",
    "print('# interactions on Train: %d' % len(inter_train_df))\n",
    "print('# interactions on Test: %d' % len(inter_test_df))"
   ]
  },
  {
   "cell_type": "code",
   "execution_count": 61,
   "id": "46c02cdc",
   "metadata": {},
   "outputs": [],
   "source": [
    "# Indexing by personId to speed up the seaches during evaluaion\n",
    "interactions_full_df = interactions_full_df.set_index('personId')\n",
    "inter_train_df = inter_train_df.set_index('personId')\n",
    "inter_test_df = inter_test_df.set_index('personId')"
   ]
  },
  {
   "cell_type": "code",
   "execution_count": 62,
   "id": "3453dc15",
   "metadata": {},
   "outputs": [],
   "source": [
    "# 유저와 관련된 아이템 뽑아내기\n",
    "def get_items_interacted(personid, inter_df):\n",
    "    interacted_items = inter_df.loc[personid]['contentId']\n",
    "    return set(interacted_items if type(interacted_items)==pd.Series else [interacted_items])"
   ]
  },
  {
   "cell_type": "code",
   "execution_count": 131,
   "id": "ce267c55",
   "metadata": {},
   "outputs": [],
   "source": [
    "# Top-N accuracy metrics consts\n",
    "Eval_Random_Sample_Non_Interacted_Items = 100\n",
    "\n",
    "class ModelEvaluator:\n",
    "    # 유저와 관련되지 않은 아이템 중 샘플 뽑아내기\n",
    "    def get_not_interacted_items_sample(self, personid, sample_size, seed=27):\n",
    "        interacted_items = get_items_interacted(personid, interactions_full_df)\n",
    "        all_items = set(articles_df['contentId'])\n",
    "        non_interacted_items = all_items-interacted_items\n",
    "        random.seed(seed)\n",
    "        non_interacted_items_sample = random.sample(non_interacted_items, sample_size)\n",
    "        return set(non_interacted_items_sample)\n",
    "        \n",
    "    # recommended_items와 item_id는 같은 format    \n",
    "    def verify_hit_top_n(self, item_id, recommended_items, topn):\n",
    "        try:\n",
    "            index = next(i for i,c in enumerate(recommended_items) if c==item_id)\n",
    "        except:\n",
    "            index = -1\n",
    "        # hit = True / False\n",
    "        hit = int(index in range(0, topn))\n",
    "        return hit, index\n",
    "    \n",
    "    def evaluate_model_for_user(self, model, personid):\n",
    "        # Getting the items in test set\n",
    "        interacted_values_testset = inter_test_df.loc[psersonid]\n",
    "        if type(interacted_values_testset['contentId'])==pd.Series:\n",
    "            person_interacted_items_testset = set(interacted_values_testset['contentId'])\n",
    "        else:\n",
    "            person_interacted_items_testset = set([int(interacted_values_testset['contentId'])])\n",
    "        interacted_items_cnt_testset = len(person_interacted_items_testset)\n",
    "    \n",
    "        # Getting a ranked recommendation list from a model for a user\n",
    "        person_recs_df = model.recommend_items(personid, items_to_ignore=get_items_interacted(personid,inter_train_df),\n",
    "                                               topn=10000000000)\n",
    "        hits_at_5_cnt = 0\n",
    "        hits_at_10_cnt = 0\n",
    "        \n",
    "        # For each item the user has interacted in test set\n",
    "        for item_id in person_interacted_items_testset:\n",
    "            # Getting a random sample items the user has not interacted\n",
    "            # represnet items that are assumed to be no relevant to the user\n",
    "            non_interacted_items_sample = self.get_not_interacted_items_sample(person_id,\n",
    "                                                                               sample_size=Eval_Random_Sample_Non_Interacted_Items,\n",
    "                                                                               seed=item_id%(2**32))\n",
    "            \n",
    "            # Combining the current interactec item with the random items\n",
    "            items_to_filter_recs = non_interacted_items_sample.union(set([item_id]))\n",
    "            \n",
    "            # Filtering only recommendations that are either -, -\n",
    "            valid_recs_df = person_recs_df[person_recs_df['contentId'].isin(items_to_filter_recs)]\n",
    "            valid_recs = valid_recs_df['contentId'].values\n",
    "            \n",
    "            # Verifying if the current inter item is among the Top-N\n",
    "            hits_at_5, index_at_5 = self.verify_hit_top_n(item_id, valid_recs, 5)\n",
    "            hits_at_5_cnt += hits_at_5\n",
    "            \n",
    "            htis_at_10, index_at_10 = self.verify_hit_top_n(item_id, valid_recs, 10)\n",
    "            hits_at_10_cnt += hits_at_10\n",
    "            \n",
    "            # Recall is the rate of the interacted items that are ranked among the Top-N\n",
    "            # when mixed with a set of non-rel items\n",
    "        recall_at_5 = hits_at_5_cnt / float(interacted_items_cnt_testset)\n",
    "        recall_at_10 = hits_at_10_cnt / float(interacted_items_cnt_testset)\n",
    "\n",
    "        person_metrics = {'hits@5_count':hits_at_5_count, \n",
    "                      'hits@10_count':hits_at_10_count, \n",
    "                      'interacted_count': interacted_items_count_testset,\n",
    "                      'recall@5': recall_at_5,\n",
    "                      'recall@10': recall_at_10}\n",
    "        return person_metrics\n",
    "            \n",
    "    def evaluate_model(self, model):\n",
    "        print('Running evaluation for users')\n",
    "        people_metrics = []\n",
    "        \n",
    "        for idx, personid in enumerate(list(inter_test_df.index.unique().values)):\n",
    "            if idx % 100 == 0 and idx > 0:\n",
    "                print('%d users processed' % idx)\n",
    "            person_metrics = self.evaluate_model_for_user(model, personid)\n",
    "            person_metrics['_personid'] = personid\n",
    "            people_metrics.append(person_metrics)\n",
    "        print('%d users processed' % idx)\n",
    "        \n",
    "        detailed_results_df = pd.DataFrame(people_metrics).sort_values('interacted_count',\n",
    "                                                                       ascending=False)\n",
    "        \n",
    "        global_recall_at_5 = detailed_results_df['hits@5_count'].sum() / float(detailed_results_df['interacted_count'].sum())\n",
    "        global_recall_at_5 = detailed_results_df['hits@10_count'].sum() / float(detailed_results_df['interacted_count'].sum())\n",
    "        \n",
    "        global_metrics = {'modelName': model.get_model_name(),\n",
    "                          'recall@5': global_recall_at_5,\n",
    "                          'recall@10': global_recall_at_10}\n",
    "        \n",
    "        return global_metrics, detailed_results_df\n",
    "    \n",
    "model_evaluator = ModelEvaluator()\n",
    "        "
   ]
  },
  {
   "cell_type": "code",
   "execution_count": null,
   "id": "c4497364",
   "metadata": {},
   "outputs": [],
   "source": []
  }
 ],
 "metadata": {
  "kernelspec": {
   "display_name": "Python 3 (ipykernel)",
   "language": "python",
   "name": "python3"
  },
  "language_info": {
   "codemirror_mode": {
    "name": "ipython",
    "version": 3
   },
   "file_extension": ".py",
   "mimetype": "text/x-python",
   "name": "python",
   "nbconvert_exporter": "python",
   "pygments_lexer": "ipython3",
   "version": "3.9.7"
  }
 },
 "nbformat": 4,
 "nbformat_minor": 5
}
